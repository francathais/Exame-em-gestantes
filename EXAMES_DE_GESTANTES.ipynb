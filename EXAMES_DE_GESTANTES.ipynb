{
  "nbformat": 4,
  "nbformat_minor": 0,
  "metadata": {
    "colab": {
      "provenance": []
    },
    "kernelspec": {
      "name": "python3",
      "display_name": "Python 3"
    },
    "language_info": {
      "name": "python"
    }
  },
  "cells": [
    {
      "cell_type": "markdown",
      "source": [
        "Aqui esta o mesmo código para cada contrato, nele é necessário trocar o item da coluna para obter o resultado relativo a cada exame\n"
      ],
      "metadata": {
        "id": "XGtzS0_182E5"
      }
    },
    {
      "cell_type": "code",
      "execution_count": null,
      "metadata": {
        "colab": {
          "base_uri": "https://localhost:8080/"
        },
        "id": "e_p6lCr6dhTo",
        "outputId": "881cfd24-7ddc-4062-a941-eef308e63be9"
      },
      "outputs": [
        {
          "output_type": "stream",
          "name": "stdout",
          "text": [
            "      nm_municipio          nm_coordenadoria_regional  \\\n",
            "0        SAO PAULO     COORD REGIONAL DE SAUDE CENTRO   \n",
            "1        SAO PAULO     COORD REGIONAL DE SAUDE CENTRO   \n",
            "2        SAO PAULO     COORD REGIONAL DE SAUDE CENTRO   \n",
            "3        SAO PAULO     COORD REGIONAL DE SAUDE CENTRO   \n",
            "4        SAO PAULO     COORD REGIONAL DE SAUDE CENTRO   \n",
            "...            ...                                ...   \n",
            "74617    SAO PAULO  COORDENACAO DE ATENCAO HOSPITALAR   \n",
            "74618    SAO PAULO  COORDENACAO DE ATENCAO HOSPITALAR   \n",
            "74619    SAO PAULO  COORDENACAO DE ATENCAO HOSPITALAR   \n",
            "74620    SAO PAULO  COORDENACAO DE ATENCAO HOSPITALAR   \n",
            "74621    SAO PAULO        UNID REGULADORA ESTRATEGICA   \n",
            "\n",
            "                        nm_supervisao_tecnica  cd_cnes  \\\n",
            "0                  CENTRO - STS SANTA CECILIA  2029618   \n",
            "1                  CENTRO - STS SANTA CECILIA  2029618   \n",
            "2                  CENTRO - STS SANTA CECILIA  2029618   \n",
            "3                  CENTRO - STS SANTA CECILIA  2029618   \n",
            "4                  CENTRO - STS SANTA CECILIA  2029618   \n",
            "...                                       ...      ...   \n",
            "74617  SUPERVISAO TECNICA DE SAUDE HOSPITALAR  2065665   \n",
            "74618  SUPERVISAO TECNICA DE SAUDE HOSPITALAR  2075717   \n",
            "74619  SUPERVISAO TECNICA DE SAUDE HOSPITALAR  2075717   \n",
            "74620  SUPERVISAO TECNICA DE SAUDE HOSPITALAR  2786680   \n",
            "74621                        NAO IDENTIFICADO  3039420   \n",
            "\n",
            "                                   nm_estabelecimento  \\\n",
            "0            UBS BOM RETIRO OCTAVIO AUGUSTO RODOVALHO   \n",
            "1            UBS BOM RETIRO OCTAVIO AUGUSTO RODOVALHO   \n",
            "2            UBS BOM RETIRO OCTAVIO AUGUSTO RODOVALHO   \n",
            "3            UBS BOM RETIRO OCTAVIO AUGUSTO RODOVALHO   \n",
            "4            UBS BOM RETIRO OCTAVIO AUGUSTO RODOVALHO   \n",
            "...                                               ...   \n",
            "74617                         HOSP SES MAT INTERLAGOS   \n",
            "74618                    HOSP MUN J SARAH-MARIO DEGNI   \n",
            "74619                    HOSP MUN J SARAH-MARIO DEGNI   \n",
            "74620  HOSP MUN CAMPO LIMPO-FERNANDO MAURO P DA ROCHA   \n",
            "74621                   HOSPITAL SAO CAMILO - SANTANA   \n",
            "\n",
            "                           nm_pessoa  cd_sisprenatal data_acolhimento  \\\n",
            "0           ADELAIDA BAREIRO CACERES     35212898979       2021-07-20   \n",
            "1             ADELAIDA MAMANI MAMANI     35212914429       2021-09-08   \n",
            "2           ADRIANA DA SILVA BESERRA     35212905847       2021-08-12   \n",
            "3         ALEXANDRA BARBOSA DE BRITO     35212894203       2021-07-13   \n",
            "4      ALINE DA SILVA FERREIRA COSTA     35212888254       2021-06-22   \n",
            "...                              ...             ...              ...   \n",
            "74617       YASMIN FERNANDES SANTANA     35222860103       2022-03-24   \n",
            "74618            EMILLY MANDUCA ROSA     35222865526       2022-04-13   \n",
            "74619       MARILENE ARAUJO DE SOUZA     35222850323       2022-02-23   \n",
            "74620        THAMIRES PEREIRA SANTOS     35222862898       2022-04-01   \n",
            "74621      KARINA PESSANHA DE CASTRO     35222864598       2022-04-11   \n",
            "\n",
            "             DUM data_previsao_parto  dias_acolhimento_dum  \\\n",
            "0     2021-06-14          2022-03-21                    36   \n",
            "1     2021-04-10          2022-01-17                   151   \n",
            "2     2021-06-15          2022-03-22                    58   \n",
            "3     2021-04-11          2022-01-18                    93   \n",
            "4     2021-04-05          2022-01-12                    78   \n",
            "...          ...                 ...                   ...   \n",
            "74617 2022-01-21          2022-10-28                    62   \n",
            "74618 2022-02-12          2022-11-19                    60   \n",
            "74619 2021-12-25          2022-10-01                    60   \n",
            "74620 2022-02-10          2022-11-17                    50   \n",
            "74621 2022-03-02          2022-12-09                    40   \n",
            "\n",
            "       nr_semana_decorrido_ingresso  Glicemia  HIV  HbsAg  Urina  \\\n",
            "0                                 7         3    3      2      3   \n",
            "1                                24         2    3      2      2   \n",
            "2                                10         2    3      2      3   \n",
            "3                                14         2    2      2      2   \n",
            "4                                12         3    3      1      3   \n",
            "...                             ...       ...  ...    ...    ...   \n",
            "74617                            10         3    3      2      3   \n",
            "74618                            10         3    2      2      2   \n",
            "74619                             9         2    3      2      2   \n",
            "74620                             8         4    3      1      2   \n",
            "74621                             6         1    2      1      1   \n",
            "\n",
            "       Pesquisa_Strepto_B  VDRL  \n",
            "0                       0     3  \n",
            "1                       1     3  \n",
            "2                       0     3  \n",
            "3                       0     2  \n",
            "4                       0     3  \n",
            "...                   ...   ...  \n",
            "74617                   0     3  \n",
            "74618                   0     2  \n",
            "74619                   0     3  \n",
            "74620                   1     3  \n",
            "74621                   0     2  \n",
            "\n",
            "[74622 rows x 18 columns]\n"
          ]
        }
      ],
      "source": [
        "import pandas as pd\n",
        "\n",
        "# Lendo a planilha do Excel\n",
        "dados = pd.read_excel('/content/Pasta1.xlsx')\n",
        "\n",
        "# Exibindo os dados\n",
        "print(dados)\n"
      ]
    },
    {
      "cell_type": "code",
      "source": [
        "dados"
      ],
      "metadata": {
        "colab": {
          "base_uri": "https://localhost:8080/",
          "height": 870
        },
        "id": "invzTGCM0cCN",
        "outputId": "1b17c2c2-f5f9-46ef-eda2-bf04ea2f2acf"
      },
      "execution_count": null,
      "outputs": [
        {
          "output_type": "execute_result",
          "data": {
            "text/plain": [
              "      nm_municipio          nm_coordenadoria_regional  \\\n",
              "0        SAO PAULO     COORD REGIONAL DE SAUDE CENTRO   \n",
              "1        SAO PAULO     COORD REGIONAL DE SAUDE CENTRO   \n",
              "2        SAO PAULO     COORD REGIONAL DE SAUDE CENTRO   \n",
              "3        SAO PAULO     COORD REGIONAL DE SAUDE CENTRO   \n",
              "4        SAO PAULO     COORD REGIONAL DE SAUDE CENTRO   \n",
              "...            ...                                ...   \n",
              "74617    SAO PAULO  COORDENACAO DE ATENCAO HOSPITALAR   \n",
              "74618    SAO PAULO  COORDENACAO DE ATENCAO HOSPITALAR   \n",
              "74619    SAO PAULO  COORDENACAO DE ATENCAO HOSPITALAR   \n",
              "74620    SAO PAULO  COORDENACAO DE ATENCAO HOSPITALAR   \n",
              "74621    SAO PAULO        UNID REGULADORA ESTRATEGICA   \n",
              "\n",
              "                        nm_supervisao_tecnica  cd_cnes  \\\n",
              "0                  CENTRO - STS SANTA CECILIA  2029618   \n",
              "1                  CENTRO - STS SANTA CECILIA  2029618   \n",
              "2                  CENTRO - STS SANTA CECILIA  2029618   \n",
              "3                  CENTRO - STS SANTA CECILIA  2029618   \n",
              "4                  CENTRO - STS SANTA CECILIA  2029618   \n",
              "...                                       ...      ...   \n",
              "74617  SUPERVISAO TECNICA DE SAUDE HOSPITALAR  2065665   \n",
              "74618  SUPERVISAO TECNICA DE SAUDE HOSPITALAR  2075717   \n",
              "74619  SUPERVISAO TECNICA DE SAUDE HOSPITALAR  2075717   \n",
              "74620  SUPERVISAO TECNICA DE SAUDE HOSPITALAR  2786680   \n",
              "74621                        NAO IDENTIFICADO  3039420   \n",
              "\n",
              "                                   nm_estabelecimento  \\\n",
              "0            UBS BOM RETIRO OCTAVIO AUGUSTO RODOVALHO   \n",
              "1            UBS BOM RETIRO OCTAVIO AUGUSTO RODOVALHO   \n",
              "2            UBS BOM RETIRO OCTAVIO AUGUSTO RODOVALHO   \n",
              "3            UBS BOM RETIRO OCTAVIO AUGUSTO RODOVALHO   \n",
              "4            UBS BOM RETIRO OCTAVIO AUGUSTO RODOVALHO   \n",
              "...                                               ...   \n",
              "74617                         HOSP SES MAT INTERLAGOS   \n",
              "74618                    HOSP MUN J SARAH-MARIO DEGNI   \n",
              "74619                    HOSP MUN J SARAH-MARIO DEGNI   \n",
              "74620  HOSP MUN CAMPO LIMPO-FERNANDO MAURO P DA ROCHA   \n",
              "74621                   HOSPITAL SAO CAMILO - SANTANA   \n",
              "\n",
              "                           nm_pessoa  cd_sisprenatal data_acolhimento  \\\n",
              "0           ADELAIDA BAREIRO CACERES     35212898979       2021-07-20   \n",
              "1             ADELAIDA MAMANI MAMANI     35212914429       2021-09-08   \n",
              "2           ADRIANA DA SILVA BESERRA     35212905847       2021-08-12   \n",
              "3         ALEXANDRA BARBOSA DE BRITO     35212894203       2021-07-13   \n",
              "4      ALINE DA SILVA FERREIRA COSTA     35212888254       2021-06-22   \n",
              "...                              ...             ...              ...   \n",
              "74617       YASMIN FERNANDES SANTANA     35222860103       2022-03-24   \n",
              "74618            EMILLY MANDUCA ROSA     35222865526       2022-04-13   \n",
              "74619       MARILENE ARAUJO DE SOUZA     35222850323       2022-02-23   \n",
              "74620        THAMIRES PEREIRA SANTOS     35222862898       2022-04-01   \n",
              "74621      KARINA PESSANHA DE CASTRO     35222864598       2022-04-11   \n",
              "\n",
              "             DUM data_previsao_parto  dias_acolhimento_dum  \\\n",
              "0     2021-06-14          2022-03-21                    36   \n",
              "1     2021-04-10          2022-01-17                   151   \n",
              "2     2021-06-15          2022-03-22                    58   \n",
              "3     2021-04-11          2022-01-18                    93   \n",
              "4     2021-04-05          2022-01-12                    78   \n",
              "...          ...                 ...                   ...   \n",
              "74617 2022-01-21          2022-10-28                    62   \n",
              "74618 2022-02-12          2022-11-19                    60   \n",
              "74619 2021-12-25          2022-10-01                    60   \n",
              "74620 2022-02-10          2022-11-17                    50   \n",
              "74621 2022-03-02          2022-12-09                    40   \n",
              "\n",
              "       nr_semana_decorrido_ingresso  Glicemia  HIV  HbsAg  Urina  \\\n",
              "0                                 7         3    3      2      3   \n",
              "1                                24         2    3      2      2   \n",
              "2                                10         2    3      2      3   \n",
              "3                                14         2    2      2      2   \n",
              "4                                12         3    3      1      3   \n",
              "...                             ...       ...  ...    ...    ...   \n",
              "74617                            10         3    3      2      3   \n",
              "74618                            10         3    2      2      2   \n",
              "74619                             9         2    3      2      2   \n",
              "74620                             8         4    3      1      2   \n",
              "74621                             6         1    2      1      1   \n",
              "\n",
              "       Pesquisa_Strepto_B  VDRL  \n",
              "0                       0     3  \n",
              "1                       1     3  \n",
              "2                       0     3  \n",
              "3                       0     2  \n",
              "4                       0     3  \n",
              "...                   ...   ...  \n",
              "74617                   0     3  \n",
              "74618                   0     2  \n",
              "74619                   0     3  \n",
              "74620                   1     3  \n",
              "74621                   0     2  \n",
              "\n",
              "[74622 rows x 18 columns]"
            ],
            "text/html": [
              "\n",
              "  <div id=\"df-94ce6728-0597-4d2e-a6cb-1cf046883dae\">\n",
              "    <div class=\"colab-df-container\">\n",
              "      <div>\n",
              "<style scoped>\n",
              "    .dataframe tbody tr th:only-of-type {\n",
              "        vertical-align: middle;\n",
              "    }\n",
              "\n",
              "    .dataframe tbody tr th {\n",
              "        vertical-align: top;\n",
              "    }\n",
              "\n",
              "    .dataframe thead th {\n",
              "        text-align: right;\n",
              "    }\n",
              "</style>\n",
              "<table border=\"1\" class=\"dataframe\">\n",
              "  <thead>\n",
              "    <tr style=\"text-align: right;\">\n",
              "      <th></th>\n",
              "      <th>nm_municipio</th>\n",
              "      <th>nm_coordenadoria_regional</th>\n",
              "      <th>nm_supervisao_tecnica</th>\n",
              "      <th>cd_cnes</th>\n",
              "      <th>nm_estabelecimento</th>\n",
              "      <th>nm_pessoa</th>\n",
              "      <th>cd_sisprenatal</th>\n",
              "      <th>data_acolhimento</th>\n",
              "      <th>DUM</th>\n",
              "      <th>data_previsao_parto</th>\n",
              "      <th>dias_acolhimento_dum</th>\n",
              "      <th>nr_semana_decorrido_ingresso</th>\n",
              "      <th>Glicemia</th>\n",
              "      <th>HIV</th>\n",
              "      <th>HbsAg</th>\n",
              "      <th>Urina</th>\n",
              "      <th>Pesquisa_Strepto_B</th>\n",
              "      <th>VDRL</th>\n",
              "    </tr>\n",
              "  </thead>\n",
              "  <tbody>\n",
              "    <tr>\n",
              "      <th>0</th>\n",
              "      <td>SAO PAULO</td>\n",
              "      <td>COORD REGIONAL DE SAUDE CENTRO</td>\n",
              "      <td>CENTRO - STS SANTA CECILIA</td>\n",
              "      <td>2029618</td>\n",
              "      <td>UBS BOM RETIRO OCTAVIO AUGUSTO RODOVALHO</td>\n",
              "      <td>ADELAIDA BAREIRO CACERES</td>\n",
              "      <td>35212898979</td>\n",
              "      <td>2021-07-20</td>\n",
              "      <td>2021-06-14</td>\n",
              "      <td>2022-03-21</td>\n",
              "      <td>36</td>\n",
              "      <td>7</td>\n",
              "      <td>3</td>\n",
              "      <td>3</td>\n",
              "      <td>2</td>\n",
              "      <td>3</td>\n",
              "      <td>0</td>\n",
              "      <td>3</td>\n",
              "    </tr>\n",
              "    <tr>\n",
              "      <th>1</th>\n",
              "      <td>SAO PAULO</td>\n",
              "      <td>COORD REGIONAL DE SAUDE CENTRO</td>\n",
              "      <td>CENTRO - STS SANTA CECILIA</td>\n",
              "      <td>2029618</td>\n",
              "      <td>UBS BOM RETIRO OCTAVIO AUGUSTO RODOVALHO</td>\n",
              "      <td>ADELAIDA MAMANI MAMANI</td>\n",
              "      <td>35212914429</td>\n",
              "      <td>2021-09-08</td>\n",
              "      <td>2021-04-10</td>\n",
              "      <td>2022-01-17</td>\n",
              "      <td>151</td>\n",
              "      <td>24</td>\n",
              "      <td>2</td>\n",
              "      <td>3</td>\n",
              "      <td>2</td>\n",
              "      <td>2</td>\n",
              "      <td>1</td>\n",
              "      <td>3</td>\n",
              "    </tr>\n",
              "    <tr>\n",
              "      <th>2</th>\n",
              "      <td>SAO PAULO</td>\n",
              "      <td>COORD REGIONAL DE SAUDE CENTRO</td>\n",
              "      <td>CENTRO - STS SANTA CECILIA</td>\n",
              "      <td>2029618</td>\n",
              "      <td>UBS BOM RETIRO OCTAVIO AUGUSTO RODOVALHO</td>\n",
              "      <td>ADRIANA DA SILVA BESERRA</td>\n",
              "      <td>35212905847</td>\n",
              "      <td>2021-08-12</td>\n",
              "      <td>2021-06-15</td>\n",
              "      <td>2022-03-22</td>\n",
              "      <td>58</td>\n",
              "      <td>10</td>\n",
              "      <td>2</td>\n",
              "      <td>3</td>\n",
              "      <td>2</td>\n",
              "      <td>3</td>\n",
              "      <td>0</td>\n",
              "      <td>3</td>\n",
              "    </tr>\n",
              "    <tr>\n",
              "      <th>3</th>\n",
              "      <td>SAO PAULO</td>\n",
              "      <td>COORD REGIONAL DE SAUDE CENTRO</td>\n",
              "      <td>CENTRO - STS SANTA CECILIA</td>\n",
              "      <td>2029618</td>\n",
              "      <td>UBS BOM RETIRO OCTAVIO AUGUSTO RODOVALHO</td>\n",
              "      <td>ALEXANDRA BARBOSA DE BRITO</td>\n",
              "      <td>35212894203</td>\n",
              "      <td>2021-07-13</td>\n",
              "      <td>2021-04-11</td>\n",
              "      <td>2022-01-18</td>\n",
              "      <td>93</td>\n",
              "      <td>14</td>\n",
              "      <td>2</td>\n",
              "      <td>2</td>\n",
              "      <td>2</td>\n",
              "      <td>2</td>\n",
              "      <td>0</td>\n",
              "      <td>2</td>\n",
              "    </tr>\n",
              "    <tr>\n",
              "      <th>4</th>\n",
              "      <td>SAO PAULO</td>\n",
              "      <td>COORD REGIONAL DE SAUDE CENTRO</td>\n",
              "      <td>CENTRO - STS SANTA CECILIA</td>\n",
              "      <td>2029618</td>\n",
              "      <td>UBS BOM RETIRO OCTAVIO AUGUSTO RODOVALHO</td>\n",
              "      <td>ALINE DA SILVA FERREIRA COSTA</td>\n",
              "      <td>35212888254</td>\n",
              "      <td>2021-06-22</td>\n",
              "      <td>2021-04-05</td>\n",
              "      <td>2022-01-12</td>\n",
              "      <td>78</td>\n",
              "      <td>12</td>\n",
              "      <td>3</td>\n",
              "      <td>3</td>\n",
              "      <td>1</td>\n",
              "      <td>3</td>\n",
              "      <td>0</td>\n",
              "      <td>3</td>\n",
              "    </tr>\n",
              "    <tr>\n",
              "      <th>...</th>\n",
              "      <td>...</td>\n",
              "      <td>...</td>\n",
              "      <td>...</td>\n",
              "      <td>...</td>\n",
              "      <td>...</td>\n",
              "      <td>...</td>\n",
              "      <td>...</td>\n",
              "      <td>...</td>\n",
              "      <td>...</td>\n",
              "      <td>...</td>\n",
              "      <td>...</td>\n",
              "      <td>...</td>\n",
              "      <td>...</td>\n",
              "      <td>...</td>\n",
              "      <td>...</td>\n",
              "      <td>...</td>\n",
              "      <td>...</td>\n",
              "      <td>...</td>\n",
              "    </tr>\n",
              "    <tr>\n",
              "      <th>74617</th>\n",
              "      <td>SAO PAULO</td>\n",
              "      <td>COORDENACAO DE ATENCAO HOSPITALAR</td>\n",
              "      <td>SUPERVISAO TECNICA DE SAUDE HOSPITALAR</td>\n",
              "      <td>2065665</td>\n",
              "      <td>HOSP SES MAT INTERLAGOS</td>\n",
              "      <td>YASMIN FERNANDES SANTANA</td>\n",
              "      <td>35222860103</td>\n",
              "      <td>2022-03-24</td>\n",
              "      <td>2022-01-21</td>\n",
              "      <td>2022-10-28</td>\n",
              "      <td>62</td>\n",
              "      <td>10</td>\n",
              "      <td>3</td>\n",
              "      <td>3</td>\n",
              "      <td>2</td>\n",
              "      <td>3</td>\n",
              "      <td>0</td>\n",
              "      <td>3</td>\n",
              "    </tr>\n",
              "    <tr>\n",
              "      <th>74618</th>\n",
              "      <td>SAO PAULO</td>\n",
              "      <td>COORDENACAO DE ATENCAO HOSPITALAR</td>\n",
              "      <td>SUPERVISAO TECNICA DE SAUDE HOSPITALAR</td>\n",
              "      <td>2075717</td>\n",
              "      <td>HOSP MUN J SARAH-MARIO DEGNI</td>\n",
              "      <td>EMILLY MANDUCA ROSA</td>\n",
              "      <td>35222865526</td>\n",
              "      <td>2022-04-13</td>\n",
              "      <td>2022-02-12</td>\n",
              "      <td>2022-11-19</td>\n",
              "      <td>60</td>\n",
              "      <td>10</td>\n",
              "      <td>3</td>\n",
              "      <td>2</td>\n",
              "      <td>2</td>\n",
              "      <td>2</td>\n",
              "      <td>0</td>\n",
              "      <td>2</td>\n",
              "    </tr>\n",
              "    <tr>\n",
              "      <th>74619</th>\n",
              "      <td>SAO PAULO</td>\n",
              "      <td>COORDENACAO DE ATENCAO HOSPITALAR</td>\n",
              "      <td>SUPERVISAO TECNICA DE SAUDE HOSPITALAR</td>\n",
              "      <td>2075717</td>\n",
              "      <td>HOSP MUN J SARAH-MARIO DEGNI</td>\n",
              "      <td>MARILENE ARAUJO DE SOUZA</td>\n",
              "      <td>35222850323</td>\n",
              "      <td>2022-02-23</td>\n",
              "      <td>2021-12-25</td>\n",
              "      <td>2022-10-01</td>\n",
              "      <td>60</td>\n",
              "      <td>9</td>\n",
              "      <td>2</td>\n",
              "      <td>3</td>\n",
              "      <td>2</td>\n",
              "      <td>2</td>\n",
              "      <td>0</td>\n",
              "      <td>3</td>\n",
              "    </tr>\n",
              "    <tr>\n",
              "      <th>74620</th>\n",
              "      <td>SAO PAULO</td>\n",
              "      <td>COORDENACAO DE ATENCAO HOSPITALAR</td>\n",
              "      <td>SUPERVISAO TECNICA DE SAUDE HOSPITALAR</td>\n",
              "      <td>2786680</td>\n",
              "      <td>HOSP MUN CAMPO LIMPO-FERNANDO MAURO P DA ROCHA</td>\n",
              "      <td>THAMIRES PEREIRA SANTOS</td>\n",
              "      <td>35222862898</td>\n",
              "      <td>2022-04-01</td>\n",
              "      <td>2022-02-10</td>\n",
              "      <td>2022-11-17</td>\n",
              "      <td>50</td>\n",
              "      <td>8</td>\n",
              "      <td>4</td>\n",
              "      <td>3</td>\n",
              "      <td>1</td>\n",
              "      <td>2</td>\n",
              "      <td>1</td>\n",
              "      <td>3</td>\n",
              "    </tr>\n",
              "    <tr>\n",
              "      <th>74621</th>\n",
              "      <td>SAO PAULO</td>\n",
              "      <td>UNID REGULADORA ESTRATEGICA</td>\n",
              "      <td>NAO IDENTIFICADO</td>\n",
              "      <td>3039420</td>\n",
              "      <td>HOSPITAL SAO CAMILO - SANTANA</td>\n",
              "      <td>KARINA PESSANHA DE CASTRO</td>\n",
              "      <td>35222864598</td>\n",
              "      <td>2022-04-11</td>\n",
              "      <td>2022-03-02</td>\n",
              "      <td>2022-12-09</td>\n",
              "      <td>40</td>\n",
              "      <td>6</td>\n",
              "      <td>1</td>\n",
              "      <td>2</td>\n",
              "      <td>1</td>\n",
              "      <td>1</td>\n",
              "      <td>0</td>\n",
              "      <td>2</td>\n",
              "    </tr>\n",
              "  </tbody>\n",
              "</table>\n",
              "<p>74622 rows × 18 columns</p>\n",
              "</div>\n",
              "      <button class=\"colab-df-convert\" onclick=\"convertToInteractive('df-94ce6728-0597-4d2e-a6cb-1cf046883dae')\"\n",
              "              title=\"Convert this dataframe to an interactive table.\"\n",
              "              style=\"display:none;\">\n",
              "        \n",
              "  <svg xmlns=\"http://www.w3.org/2000/svg\" height=\"24px\"viewBox=\"0 0 24 24\"\n",
              "       width=\"24px\">\n",
              "    <path d=\"M0 0h24v24H0V0z\" fill=\"none\"/>\n",
              "    <path d=\"M18.56 5.44l.94 2.06.94-2.06 2.06-.94-2.06-.94-.94-2.06-.94 2.06-2.06.94zm-11 1L8.5 8.5l.94-2.06 2.06-.94-2.06-.94L8.5 2.5l-.94 2.06-2.06.94zm10 10l.94 2.06.94-2.06 2.06-.94-2.06-.94-.94-2.06-.94 2.06-2.06.94z\"/><path d=\"M17.41 7.96l-1.37-1.37c-.4-.4-.92-.59-1.43-.59-.52 0-1.04.2-1.43.59L10.3 9.45l-7.72 7.72c-.78.78-.78 2.05 0 2.83L4 21.41c.39.39.9.59 1.41.59.51 0 1.02-.2 1.41-.59l7.78-7.78 2.81-2.81c.8-.78.8-2.07 0-2.86zM5.41 20L4 18.59l7.72-7.72 1.47 1.35L5.41 20z\"/>\n",
              "  </svg>\n",
              "      </button>\n",
              "      \n",
              "  <style>\n",
              "    .colab-df-container {\n",
              "      display:flex;\n",
              "      flex-wrap:wrap;\n",
              "      gap: 12px;\n",
              "    }\n",
              "\n",
              "    .colab-df-convert {\n",
              "      background-color: #E8F0FE;\n",
              "      border: none;\n",
              "      border-radius: 50%;\n",
              "      cursor: pointer;\n",
              "      display: none;\n",
              "      fill: #1967D2;\n",
              "      height: 32px;\n",
              "      padding: 0 0 0 0;\n",
              "      width: 32px;\n",
              "    }\n",
              "\n",
              "    .colab-df-convert:hover {\n",
              "      background-color: #E2EBFA;\n",
              "      box-shadow: 0px 1px 2px rgba(60, 64, 67, 0.3), 0px 1px 3px 1px rgba(60, 64, 67, 0.15);\n",
              "      fill: #174EA6;\n",
              "    }\n",
              "\n",
              "    [theme=dark] .colab-df-convert {\n",
              "      background-color: #3B4455;\n",
              "      fill: #D2E3FC;\n",
              "    }\n",
              "\n",
              "    [theme=dark] .colab-df-convert:hover {\n",
              "      background-color: #434B5C;\n",
              "      box-shadow: 0px 1px 3px 1px rgba(0, 0, 0, 0.15);\n",
              "      filter: drop-shadow(0px 1px 2px rgba(0, 0, 0, 0.3));\n",
              "      fill: #FFFFFF;\n",
              "    }\n",
              "  </style>\n",
              "\n",
              "      <script>\n",
              "        const buttonEl =\n",
              "          document.querySelector('#df-94ce6728-0597-4d2e-a6cb-1cf046883dae button.colab-df-convert');\n",
              "        buttonEl.style.display =\n",
              "          google.colab.kernel.accessAllowed ? 'block' : 'none';\n",
              "\n",
              "        async function convertToInteractive(key) {\n",
              "          const element = document.querySelector('#df-94ce6728-0597-4d2e-a6cb-1cf046883dae');\n",
              "          const dataTable =\n",
              "            await google.colab.kernel.invokeFunction('convertToInteractive',\n",
              "                                                     [key], {});\n",
              "          if (!dataTable) return;\n",
              "\n",
              "          const docLinkHtml = 'Like what you see? Visit the ' +\n",
              "            '<a target=\"_blank\" href=https://colab.research.google.com/notebooks/data_table.ipynb>data table notebook</a>'\n",
              "            + ' to learn more about interactive tables.';\n",
              "          element.innerHTML = '';\n",
              "          dataTable['output_type'] = 'display_data';\n",
              "          await google.colab.output.renderOutput(dataTable, element);\n",
              "          const docLink = document.createElement('div');\n",
              "          docLink.innerHTML = docLinkHtml;\n",
              "          element.appendChild(docLink);\n",
              "        }\n",
              "      </script>\n",
              "    </div>\n",
              "  </div>\n",
              "  "
            ]
          },
          "metadata": {},
          "execution_count": 2
        }
      ]
    },
    {
      "cell_type": "code",
      "source": [
        "# Contando a frequência dos valores na coluna desejada do Contrato1\n",
        "frequencia_valores = dados['HIV'].value_counts()\n",
        "\n",
        "# Exibindo a frequência dos valores\n",
        "print(frequencia_valores)\n"
      ],
      "metadata": {
        "colab": {
          "base_uri": "https://localhost:8080/"
        },
        "id": "vvR_e1ux_o2G",
        "outputId": "21cf5c06-ffa8-42c9-b111-9647587e632a"
      },
      "execution_count": null,
      "outputs": [
        {
          "output_type": "stream",
          "name": "stdout",
          "text": [
            "3     33499\n",
            "2     24707\n",
            "4      8274\n",
            "1      5541\n",
            "5      1877\n",
            "0       382\n",
            "6       300\n",
            "7        37\n",
            "8         4\n",
            "11        1\n",
            "Name: HIV, dtype: int64\n"
          ]
        }
      ]
    },
    {
      "cell_type": "code",
      "source": [
        "# Contando a frequência do valor 0 na coluna desejada do Contrato1\n",
        "frequencia_zero = dados.loc[dados['HIV'] == 0, 'HIV'].value_counts()\n",
        "\n",
        "# Exibindo a frequência do valor 0\n",
        "print(frequencia_zero)"
      ],
      "metadata": {
        "colab": {
          "base_uri": "https://localhost:8080/"
        },
        "id": "7u6cJnb5_4gU",
        "outputId": "7c6e88ee-b2a6-4e3d-da93-f77a7795bdc0"
      },
      "execution_count": null,
      "outputs": [
        {
          "output_type": "stream",
          "name": "stdout",
          "text": [
            "0    382\n",
            "Name: HIV, dtype: int64\n"
          ]
        }
      ]
    },
    {
      "cell_type": "code",
      "source": [
        "# Filtrando os valores maiores que 3 na coluna 'HIV' do Contrato1\n",
        "valores_maior_que_3 = dados['HIV'][dados['HIV'] > 3]\n",
        "\n",
        "# Somando a frequência dos valores maiores que 3\n",
        "soma_valores_maior_que_3 = valores_maior_que_3.sum()\n",
        "\n",
        "# Exibindo a soma dos valores maiores que 3\n",
        "print(\"Soma dos valores maiores que 3:\", soma_valores_maior_que_3)\n"
      ],
      "metadata": {
        "colab": {
          "base_uri": "https://localhost:8080/"
        },
        "id": "LUoReliI_-bj",
        "outputId": "f475d581-aa3d-4a8c-f3a2-4a3313dbe4b2"
      },
      "execution_count": null,
      "outputs": [
        {
          "output_type": "stream",
          "name": "stdout",
          "text": [
            "Soma dos valores maiores que 3: 44583\n"
          ]
        }
      ]
    },
    {
      "cell_type": "markdown",
      "source": [
        "#R001"
      ],
      "metadata": {
        "id": "2FxNJyZC5Bw8"
      }
    },
    {
      "cell_type": "code",
      "source": [
        "# Filtrando os dados por um item específico na coluna \"CONTRATO\"\n",
        "Contrato1 = dados.loc[dados['CONTRATO'] == 'R001']\n",
        "Contrato1\n",
        "\n",
        "# Selecionando a coluna HIV do Contrato1\n",
        "coluna_hiv = Contrato1['Glicemia']\n",
        "\n",
        "# Exibindo os dados do Contrato1 com a coluna HIV\n",
        "print(coluna_hiv)"
      ],
      "metadata": {
        "colab": {
          "base_uri": "https://localhost:8080/"
        },
        "id": "IS4ff11K3xDF",
        "outputId": "319fe8ae-9fb5-4ab7-9324-88f375f2a255"
      },
      "execution_count": null,
      "outputs": [
        {
          "output_type": "stream",
          "name": "stdout",
          "text": [
            "9994     3\n",
            "9995     3\n",
            "9996     2\n",
            "9997     3\n",
            "9998     3\n",
            "        ..\n",
            "11601    3\n",
            "11602    3\n",
            "11603    3\n",
            "11604    3\n",
            "11605    3\n",
            "Name: Glicemia, Length: 1612, dtype: int64\n"
          ]
        }
      ]
    },
    {
      "cell_type": "code",
      "source": [
        "# Contando a frequência dos valores na coluna desejada do Contrato1\n",
        "frequencia_valores = Contrato1['Glicemia'].value_counts()\n",
        "\n",
        "# Exibindo a frequência dos valores\n",
        "print(frequencia_valores)\n"
      ],
      "metadata": {
        "colab": {
          "base_uri": "https://localhost:8080/"
        },
        "id": "8ct6WeFU5HBu",
        "outputId": "22122132-c9dd-4396-cc2c-3d1fa955577a"
      },
      "execution_count": null,
      "outputs": [
        {
          "output_type": "stream",
          "name": "stdout",
          "text": [
            "3    1064\n",
            "2     290\n",
            "4     149\n",
            "1      84\n",
            "5      14\n",
            "0       8\n",
            "6       3\n",
            "Name: Glicemia, dtype: int64\n"
          ]
        }
      ]
    },
    {
      "cell_type": "code",
      "source": [
        "# Contando a frequência do valor 0 na coluna desejada do Contrato1\n",
        "frequencia_zero = Contrato1.loc[Contrato1['Glicemia'] == 0, 'Glicemia'].value_counts()\n",
        "\n",
        "# Exibindo a frequência do valor 0\n",
        "print(frequencia_zero)\n"
      ],
      "metadata": {
        "colab": {
          "base_uri": "https://localhost:8080/"
        },
        "id": "kxanbTHq50yL",
        "outputId": "d50c29b1-a23d-42eb-b120-d44449aaa080"
      },
      "execution_count": null,
      "outputs": [
        {
          "output_type": "stream",
          "name": "stdout",
          "text": [
            "0    8\n",
            "Name: Glicemia, dtype: int64\n"
          ]
        }
      ]
    },
    {
      "cell_type": "code",
      "source": [
        "# Filtrando os valores maiores que 3 na coluna 'HIV' do Contrato1\n",
        "valores_maior_que_3 = Contrato1['Glicemia'][Contrato1['Glicemia'] > 3]\n",
        "\n",
        "# Somando a frequência dos valores maiores que 3\n",
        "soma_valores_maior_que_3 = valores_maior_que_3.sum()\n",
        "\n",
        "# Exibindo a soma dos valores maiores que 3\n",
        "print(\"Soma dos valores maiores que 3:\", soma_valores_maior_que_3)\n"
      ],
      "metadata": {
        "colab": {
          "base_uri": "https://localhost:8080/"
        },
        "id": "kcpGJ_gs6uNQ",
        "outputId": "aa1cc1e7-2bf2-494a-f343-8a78e0521a79"
      },
      "execution_count": null,
      "outputs": [
        {
          "output_type": "stream",
          "name": "stdout",
          "text": [
            "Soma dos valores maiores que 3: 684\n"
          ]
        }
      ]
    },
    {
      "cell_type": "markdown",
      "source": [
        "#R002"
      ],
      "metadata": {
        "id": "72vBOpnK6I2e"
      }
    },
    {
      "cell_type": "code",
      "source": [
        "# Filtrando os dados por um item específico na coluna \"CONTRATO\"\n",
        "Contrato2 = dados.loc[dados['CONTRATO'] == 'R002']\n",
        "Contrato2\n",
        "\n",
        "# Selecionando a coluna HIV do Contrato1\n",
        "coluna_hiv = Contrato2['HIV']\n",
        "\n",
        "# Exibindo os dados do Contrato1 com a coluna HIV\n",
        "print(coluna_hiv)"
      ],
      "metadata": {
        "colab": {
          "base_uri": "https://localhost:8080/"
        },
        "id": "Dhretqqu6K35",
        "outputId": "081c2a67-4c6f-4f7f-9fbc-44c52ce7d8ec"
      },
      "execution_count": null,
      "outputs": [
        {
          "output_type": "stream",
          "name": "stdout",
          "text": [
            "0       2\n",
            "1       4\n",
            "2       2\n",
            "3       4\n",
            "4       3\n",
            "       ..\n",
            "4580    2\n",
            "4581    3\n",
            "4582    3\n",
            "4583    3\n",
            "4584    2\n",
            "Name: HIV, Length: 4585, dtype: int64\n"
          ]
        }
      ]
    },
    {
      "cell_type": "code",
      "source": [
        "# Contando a frequência dos valores na coluna desejada do Contrato1\n",
        "frequencia_valores = Contrato2['HIV'].value_counts()\n",
        "\n",
        "# Exibindo a frequência dos valores\n",
        "print(frequencia_valores)"
      ],
      "metadata": {
        "colab": {
          "base_uri": "https://localhost:8080/"
        },
        "id": "GD8vbkXn7Y7d",
        "outputId": "8a9fdc08-f4ed-4e9d-8cb0-555560fb8d8b"
      },
      "execution_count": null,
      "outputs": [
        {
          "output_type": "stream",
          "name": "stdout",
          "text": [
            "3    2008\n",
            "2    1366\n",
            "4     712\n",
            "1     343\n",
            "5     120\n",
            "0      16\n",
            "6      15\n",
            "7       5\n",
            "Name: HIV, dtype: int64\n"
          ]
        }
      ]
    },
    {
      "cell_type": "code",
      "source": [
        "# Contando a frequência do valor 0 na coluna desejada do Contrato1\n",
        "frequencia_zero = Contrato2.loc[Contrato2['HIV'] == 0, 'HIV'].value_counts()\n",
        "\n",
        "# Exibindo a frequência do valor 0\n",
        "print(frequencia_zero)"
      ],
      "metadata": {
        "colab": {
          "base_uri": "https://localhost:8080/"
        },
        "id": "acJa0Cr97bIs",
        "outputId": "cdcc68f4-8483-4493-8479-886a525a8b6e"
      },
      "execution_count": null,
      "outputs": [
        {
          "output_type": "stream",
          "name": "stdout",
          "text": [
            "0    16\n",
            "Name: HIV, dtype: int64\n"
          ]
        }
      ]
    },
    {
      "cell_type": "code",
      "source": [
        "# Filtrando os valores maiores que 3 na coluna 'HIV' do Contrato1\n",
        "valores_maior_que_3 = Contrato2['HIV'][Contrato2['HIV'] > 3]\n",
        "\n",
        "# Somando a frequência dos valores maiores que 3\n",
        "soma_valores_maior_que_3 = valores_maior_que_3.sum()\n",
        "\n",
        "# Exibindo a soma dos valores maiores que 3\n",
        "print(\"Soma dos valores maiores que 3:\", soma_valores_maior_que_3)\n"
      ],
      "metadata": {
        "colab": {
          "base_uri": "https://localhost:8080/"
        },
        "id": "6RSnjA8t7c28",
        "outputId": "bbd42ee7-a2ba-47d3-f405-b6608369f08e"
      },
      "execution_count": null,
      "outputs": [
        {
          "output_type": "stream",
          "name": "stdout",
          "text": [
            "Soma dos valores maiores que 3: 3573\n"
          ]
        }
      ]
    },
    {
      "cell_type": "markdown",
      "source": [
        "#R007"
      ],
      "metadata": {
        "id": "qkLbF8n66LQB"
      }
    },
    {
      "cell_type": "code",
      "source": [
        "# Filtrando os dados por um item específico na coluna \"CONTRATO\"\n",
        "Contrato7 = dados.loc[dados['CONTRATO'] == 'R007']\n",
        "Contrato7\n",
        "\n",
        "# Selecionando a coluna HIV do Contrato1\n",
        "coluna_hiv = Contrato7['Glicemia']\n",
        "\n",
        "# Exibindo os dados do Contrato1 com a coluna HIV\n",
        "print(coluna_hiv)"
      ],
      "metadata": {
        "colab": {
          "base_uri": "https://localhost:8080/"
        },
        "id": "t2zT37NY7eFc",
        "outputId": "150df10c-a2df-4756-d000-4decafd74b61"
      },
      "execution_count": null,
      "outputs": [
        {
          "output_type": "stream",
          "name": "stdout",
          "text": [
            "9118    3\n",
            "9119    1\n",
            "9120    2\n",
            "9121    2\n",
            "9122    3\n",
            "       ..\n",
            "9906    3\n",
            "9907    2\n",
            "9908    4\n",
            "9909    3\n",
            "9910    4\n",
            "Name: Glicemia, Length: 722, dtype: int64\n"
          ]
        }
      ]
    },
    {
      "cell_type": "code",
      "source": [
        "# Contando a frequência dos valores na coluna desejada do Contrato1\n",
        "frequencia_valores = Contrato7['Glicemia'].value_counts()\n",
        "\n",
        "# Exibindo a frequência dos valores\n",
        "print(frequencia_valores)"
      ],
      "metadata": {
        "colab": {
          "base_uri": "https://localhost:8080/"
        },
        "id": "Zw9GvTZx7goM",
        "outputId": "7f7c7c1b-5f4e-44de-bf64-84f36bfe239e"
      },
      "execution_count": null,
      "outputs": [
        {
          "output_type": "stream",
          "name": "stdout",
          "text": [
            "3    384\n",
            "2    238\n",
            "4     55\n",
            "1     33\n",
            "5      9\n",
            "0      3\n",
            "Name: Glicemia, dtype: int64\n"
          ]
        }
      ]
    },
    {
      "cell_type": "code",
      "source": [
        "# Contando a frequência do valor 0 na coluna desejada do Contrato1\n",
        "frequencia_zero = Contrato7.loc[Contrato7['Glicemia'] ==0, 'Glicemia'].value_counts()\n",
        "\n",
        "# Exibindo a frequência do valor 0\n",
        "print(frequencia_zero)"
      ],
      "metadata": {
        "colab": {
          "base_uri": "https://localhost:8080/"
        },
        "id": "uK6KPg0w7i54",
        "outputId": "821dd05c-0f37-4796-c1d6-ee7680adf148"
      },
      "execution_count": null,
      "outputs": [
        {
          "output_type": "stream",
          "name": "stdout",
          "text": [
            "0    3\n",
            "Name: Glicemia, dtype: int64\n"
          ]
        }
      ]
    },
    {
      "cell_type": "code",
      "source": [
        "# Filtrando os valores maiores que 3 na coluna 'HIV' do Contrato1\n",
        "valores_maior_que_3 = Contrato7['Glicemia'][Contrato7['Glicemia'] > 3]\n",
        "\n",
        "# Somando a frequência dos valores maiores que 3\n",
        "soma_valores_maior_que_3 = valores_maior_que_3.sum()\n",
        "\n",
        "# Exibindo a soma dos valores maiores que 3\n",
        "print(\"Soma dos valores maiores que 3:\", soma_valores_maior_que_3)\n"
      ],
      "metadata": {
        "colab": {
          "base_uri": "https://localhost:8080/"
        },
        "id": "SforpSG77kGY",
        "outputId": "92a66c8d-5860-4788-eae1-c2433782d976"
      },
      "execution_count": null,
      "outputs": [
        {
          "output_type": "stream",
          "name": "stdout",
          "text": [
            "Soma dos valores maiores que 3: 265\n"
          ]
        }
      ]
    },
    {
      "cell_type": "markdown",
      "source": [
        "#R016"
      ],
      "metadata": {
        "id": "v3czCJTC6NI5"
      }
    },
    {
      "cell_type": "code",
      "source": [
        "# Filtrando os dados por um item específico na coluna \"CONTRATO\"\n",
        "Contrato16 = dados.loc[dados['CONTRATO'] == 'R016']\n",
        "Contrato16\n",
        "\n",
        "# Selecionando a coluna HIV do Contrato1\n",
        "coluna_hiv = Contrato16['Glicemia']\n",
        "\n",
        "# Exibindo os dados do Contrato1 com a coluna HIV\n",
        "print(coluna_hiv)"
      ],
      "metadata": {
        "colab": {
          "base_uri": "https://localhost:8080/"
        },
        "id": "WbeC6_It7oG4",
        "outputId": "482dbb42-14b6-4779-ae07-e89dad605c59"
      },
      "execution_count": null,
      "outputs": [
        {
          "output_type": "stream",
          "name": "stdout",
          "text": [
            "9081    3\n",
            "9082    3\n",
            "9083    3\n",
            "9084    3\n",
            "9085    3\n",
            "       ..\n",
            "9989    2\n",
            "9990    3\n",
            "9991    3\n",
            "9992    3\n",
            "9993    2\n",
            "Name: Glicemia, Length: 191, dtype: int64\n"
          ]
        }
      ]
    },
    {
      "cell_type": "code",
      "source": [
        "# Contando a frequência dos valores na coluna desejada do Contrato1\n",
        "frequencia_valores = Contrato16['Glicemia'].value_counts()\n",
        "\n",
        "# Exibindo a frequência dos valores\n",
        "print(frequencia_valores)"
      ],
      "metadata": {
        "colab": {
          "base_uri": "https://localhost:8080/"
        },
        "id": "7YMZDXj67qbh",
        "outputId": "25c90c30-2e48-46ea-ba66-6fcf12bda0f0"
      },
      "execution_count": null,
      "outputs": [
        {
          "output_type": "stream",
          "name": "stdout",
          "text": [
            "3    119\n",
            "2     55\n",
            "4     11\n",
            "1      5\n",
            "0      1\n",
            "Name: Glicemia, dtype: int64\n"
          ]
        }
      ]
    },
    {
      "cell_type": "code",
      "source": [
        "# Contando a frequência do valor 0 na coluna desejada do Contrato1\n",
        "frequencia_zero = Contrato16.loc[Contrato16['Glicemia'] == 0, 'Glicemia'].value_counts()\n",
        "\n",
        "# Exibindo a frequência do valor 0\n",
        "print(frequencia_zero)"
      ],
      "metadata": {
        "colab": {
          "base_uri": "https://localhost:8080/"
        },
        "id": "VvV1kBlZ7rrJ",
        "outputId": "75d90fb4-d0ce-455a-a008-7ce8ec24fe79"
      },
      "execution_count": null,
      "outputs": [
        {
          "output_type": "stream",
          "name": "stdout",
          "text": [
            "0    1\n",
            "Name: Glicemia, dtype: int64\n"
          ]
        }
      ]
    },
    {
      "cell_type": "code",
      "source": [
        "# Filtrando os valores maiores que 3 na coluna 'HIV' do Contrato1\n",
        "valores_maior_que_3 = Contrato16['Glicemia'][Contrato16['Glicemia'] > 3]\n",
        "\n",
        "# Somando a frequência dos valores maiores que 3\n",
        "soma_valores_maior_que_3 = valores_maior_que_3.sum()\n",
        "\n",
        "# Exibindo a soma dos valores maiores que 3\n",
        "print(\"Soma dos valores maiores que 3:\", soma_valores_maior_que_3)\n"
      ],
      "metadata": {
        "colab": {
          "base_uri": "https://localhost:8080/"
        },
        "id": "Gx1LEnm77s4Y",
        "outputId": "b51c5b16-a42b-4df4-b5a8-27e52e35f7ad"
      },
      "execution_count": null,
      "outputs": [
        {
          "output_type": "stream",
          "name": "stdout",
          "text": [
            "Soma dos valores maiores que 3: 44\n"
          ]
        }
      ]
    },
    {
      "cell_type": "markdown",
      "source": [
        "#R018"
      ],
      "metadata": {
        "id": "bASo_QFK6OsJ"
      }
    },
    {
      "cell_type": "code",
      "source": [
        "# Filtrando os dados por um item específico na coluna \"CONTRATO\"\n",
        "Contrato18 = dados.loc[(dados['CONTRATO'] == 'R018 FO') | (dados['CONTRATO'] == 'R018 CASA VERDE')]\n",
        "\n",
        "# Selecionando a coluna HIV do Contrato18\n",
        "coluna_hiv = Contrato18['HIV']\n",
        "\n",
        "# Somando os resultados de \"R018 FO\" e \"R018 CASA VERDE\"\n",
        "soma_resultados = coluna_hiv.sum()\n",
        "\n",
        "# Exibindo a soma dos resultados\n",
        "print(soma_resultados)\n"
      ],
      "metadata": {
        "colab": {
          "base_uri": "https://localhost:8080/"
        },
        "id": "dpgXrk3G7t4R",
        "outputId": "1302bed5-3ca8-4fa4-ce51-5c70b5c2022e"
      },
      "execution_count": null,
      "outputs": [
        {
          "output_type": "stream",
          "name": "stdout",
          "text": [
            "11368\n"
          ]
        }
      ]
    },
    {
      "cell_type": "code",
      "source": [
        "# Filtrando os dados por um item específico na coluna \"CONTRATO\"\n",
        "Contrato18 = dados.loc[(dados['CONTRATO'] == 'R018 FO') | (dados['CONTRATO'] == 'R018 CASA VERDE')]\n",
        "\n",
        "# Contando a frequência dos valores na coluna desejada do Contrato18\n",
        "frequencia_valores = Contrato18['HIV'].value_counts()\n",
        "\n",
        "# Exibindo a frequência dos valores\n",
        "print(frequencia_valores)\n"
      ],
      "metadata": {
        "colab": {
          "base_uri": "https://localhost:8080/"
        },
        "id": "TvG1t8hr7wWY",
        "outputId": "35a051d7-f1d9-4101-d34f-be28f1871523"
      },
      "execution_count": null,
      "outputs": [
        {
          "output_type": "stream",
          "name": "stdout",
          "text": [
            "2    1875\n",
            "3    1525\n",
            "1     466\n",
            "4     452\n",
            "5     128\n",
            "0      29\n",
            "6      18\n",
            "7       3\n",
            "Name: HIV, dtype: int64\n"
          ]
        }
      ]
    },
    {
      "cell_type": "code",
      "source": [
        "# Filtrando os dados por um item específico na coluna \"CONTRATO\"\n",
        "Contrato18 = dados.loc[(dados['CONTRATO'] == 'R018 FO') | (dados['CONTRATO'] == 'R018 CASA VERDE')]\n",
        "\n",
        "# Contando a frequência do valor 0 na coluna desejada do Contrato18\n",
        "frequencia_zero = Contrato18.loc[Contrato18['HIV'] == 0, 'HIV'].value_counts()\n",
        "\n",
        "# Exibindo a frequência do valor 0\n",
        "print(frequencia_zero)\n"
      ],
      "metadata": {
        "colab": {
          "base_uri": "https://localhost:8080/"
        },
        "id": "wA2QTBx77xsg",
        "outputId": "f49764be-6b12-463b-cb74-f599bcbebced"
      },
      "execution_count": null,
      "outputs": [
        {
          "output_type": "stream",
          "name": "stdout",
          "text": [
            "0    29\n",
            "Name: HIV, dtype: int64\n"
          ]
        }
      ]
    },
    {
      "cell_type": "code",
      "source": [
        "# Filtrando os dados por um item específico na coluna \"CONTRATO\"\n",
        "Contrato18 = dados.loc[(dados['CONTRATO'] == 'R018 FO') | (dados['CONTRATO'] == 'R018 CASA VERDE')]\n",
        "\n",
        "# Filtrando os valores maiores que 3 na coluna 'HIV' do Contrato18\n",
        "valores_maior_que_3 = Contrato18.loc[Contrato18['HIV'] > 3, 'HIV']\n",
        "\n",
        "# Somando a frequência dos valores maiores que 3\n",
        "soma_valores_maior_que_3 = valores_maior_que_3.sum()\n",
        "\n",
        "# Exibindo a soma dos valores maiores que 3\n",
        "print(\"Soma dos valores maiores que 3:\", soma_valores_maior_que_3)\n"
      ],
      "metadata": {
        "colab": {
          "base_uri": "https://localhost:8080/"
        },
        "id": "u6IlEJJ-7yyA",
        "outputId": "11a3ea1a-7c2d-471b-906b-b969c4f32fdd"
      },
      "execution_count": null,
      "outputs": [
        {
          "output_type": "stream",
          "name": "stdout",
          "text": [
            "Soma dos valores maiores que 3: 2577\n"
          ]
        }
      ]
    },
    {
      "cell_type": "markdown",
      "source": [
        "#UNIDADES"
      ],
      "metadata": {
        "id": "utdXz9ONs3qp"
      }
    },
    {
      "cell_type": "code",
      "source": [
        "# Obtendo a lista de nomes sem repetição\n",
        "nomes_sem_repeticao = dados['nm_estabelecimento'].unique()\n",
        "\n",
        "# Exibindo os nomes sem repetição\n",
        "for nome in nomes_sem_repeticao:\n",
        "    print(nome)\n"
      ],
      "metadata": {
        "colab": {
          "base_uri": "https://localhost:8080/"
        },
        "id": "kwdakztRs6K8",
        "outputId": "baa4973f-660b-4417-bb4b-5d276648bb9c"
      },
      "execution_count": null,
      "outputs": [
        {
          "output_type": "stream",
          "name": "stdout",
          "text": [
            "UBS JARDIM CLIPER\n",
            "UBS GAIVOTAS\n",
            "AMA/UBS JARDIM CASTRO ALVES-DRA MARIA CRISTINA FARIA S CURY\n",
            "UBS JARDIM ELIANE\n",
            "UBS JARDIM ICARAI QUINTANA\n",
            "AMA/UBS JARDIM MIRNA\n",
            "UBS JARDIM REPUBLICA\n",
            "UBS JARDIM TRES CORACOES\n",
            "UBS JORDANOPOLIS\n",
            "UBS PARQUE RESIDENCIAL COCAIA INDEPENDENTE\n",
            "UBS DR. SERGIO CHADDAD\n",
            "UBS VARGINHA\n",
            "UBS VELEIROS\n",
            "UBS CHACARA DO CONDE\n",
            "UBS ALCINA PIMENTEL PIZA\n",
            "UBS CHACARA SANTO AMARO\n",
            "UBS CHACARA DO SOL\n",
            "UBS JARDIM NOVO HORIZONTE\n",
            "UBS VILA NATAL\n",
            "UBS CANTINHO DO CEU\n",
            "UBS JARDIM ORION/GUANHEMBU\n",
            "UBS AUTODROMO - DR FAUZER SIMAO ABRAO\n",
            "UBS SHANGRILA/ELLUS\n",
            "UBS ANCHIETA\n",
            "UBS JD LUCELIA - SANDRA APARECIDA BARBOSA CORREIA LIMA\n",
            "UBS CASA VERDE\n",
            "UBS/AE/NISA DR. WALTER ELIAS\n",
            "UBS DONA ADELAIDE LOPES\n",
            "UBS CASA VERDE ALTA\n",
            "UBS DRA ILZA WELTMAN HUTZLER\n",
            "UBS JARDIM PERI\n",
            "UBS PARQUE PERUCHE\n",
            "AMA/UBS INTEGRADA MASSAGISTA MARIO AMERICO\n",
            "UBS VILA SANTA MARIA\n",
            "AMA/UBS INTEGRADA VILA BARBOSA\n",
            "UBS VILA DIONISIA\n",
            "UBS VILA ESPANHOLA\n",
            "UBS VILA DIONISIA II\n",
            "UBS VILA RAMOS FREGUESIA DO O\n",
            "UBS AUGUSTO LEOPOLDO AYROSA GALVAO\n",
            "UBS BRASILANDIA\n",
            "UBS JARDIM GUANABARA\n",
            "UBS JARDIM GUARANI\n",
            "UBS JARDIM ICARAI-BRASILANDIA\n",
            "AMA/UBS INTEGRADA JARDIM LADEIRA ROSA\n",
            "AMA/UBS INTEGRADA JARDIM PAULISTANO\n",
            "UBS JARDIM VISTA ALEGRE - VANDA APARECIDA DOS SANTOS\n",
            "UBS MARIA CECILIA F DONNANGELO\n",
            "UBS SILMARYA REJANE MARCOLINO SOUZA - JARDIM CAROMBE\n",
            "UBS VILA PALMEIRAS\n",
            "UBS FATIMA DE JESUS VIANA ROSA (VILA PENTEADO)\n",
            "UBS VILA PROGRESSO - JD MONTE ALEGRE\n",
            "UBS VILA TEREZINHA\n",
            "UBS CRUZ DAS ALMAS\n",
            "UBS JARDIM ELISA MARIA I\n",
            "UBS NOVA ESPERANCA\n",
            "UBS ELISA MARIA II - DR CAMILO CRISTOFARO MARTINS\n",
            "UBS MENINOPOLIS MARIO FRANCISCO NAPOLITANO\n",
            "UBS PARQUE DA LAPA\n",
            "UBS DR JOSE DE BARROS MAGALDI\n",
            "UBS JARDIM VERA CRUZ - PERDIZES\n",
            "UBS DR. MANOEL JOAQUIM PERA\n",
            "UBS VILA ANASTACIO\n",
            "UBS VILA ANGLO BRASILEIRA - DR. JOSE SERRA RIBEIRO\n",
            "UBS VILA IPOJUCA-DRA WANDA COELHO DE MORAES\n",
            "UBS VILA JAGUARA\n",
            "AMA/UBS INTEGRADA VILA NOVA JAGUARE\n",
            "AMA/UBS INTEGRADA VILA PIAUI\n",
            "UBS VILA ROMANA\n",
            "UBS ALTO DE PINHEIROS - DR. SUEL ABUJAMRA\n",
            "UBS JARDIM EDITE - GERONCIO HENRIQUE NETO \n",
            "UBS RECANTO CAMPO BELO\n",
            "UBS DOM LUCIANO BERGAMIM\n",
            "UBS JARDIM CAMPINAS\n",
            "UBS JARDIM SAO NORBERTO\n",
            "UBS VARGEM GRANDE\n",
            "UBS VERA POTY\n",
            "UBS JARDIM IPORA\n",
            "UBS PARELHEIROS\n",
            "UBS JARDIM EMBURA\n",
            "UBS COLONIA\n",
            "UBS BARRAGEM\n",
            "UBS JARDIM DAS FONTES\n",
            "UBS JARDIM SANTA FE\n",
            "UBS JARDIM SILVEIRA\n",
            "UBS MARSILAC\n",
            "UBS NOVA AMERICA\n",
            "UBS VILA MARCELO\n",
            "UBS VILA ROSCHEL\n"
          ]
        }
      ]
    },
    {
      "cell_type": "markdown",
      "source": [
        "#Tipo de parto"
      ],
      "metadata": {
        "id": "V46_kjgSJErS"
      }
    },
    {
      "cell_type": "code",
      "source": [
        "# Lendo a planilha do Excel\n",
        "PU04 = pd.read_excel('/content/INT01.xlsx')\n",
        "\n",
        "# Exibindo os dados\n",
        "PU04\n"
      ],
      "metadata": {
        "colab": {
          "base_uri": "https://localhost:8080/",
          "height": 904
        },
        "id": "MbWIvtggJKRx",
        "outputId": "79b36f9c-918e-4081-a000-f01698b7838a"
      },
      "execution_count": null,
      "outputs": [
        {
          "output_type": "execute_result",
          "data": {
            "text/plain": [
              "              contrato municipio_acolhimento coordenaria_regional_acolhimento  \\\n",
              "0      R018 CASA VERDE             SAO PAULO    COORD REGIONAL DE SAUDE NORTE   \n",
              "1      R018 CASA VERDE             SAO PAULO    COORD REGIONAL DE SAUDE NORTE   \n",
              "2      R018 CASA VERDE             SAO PAULO    COORD REGIONAL DE SAUDE NORTE   \n",
              "3      R018 CASA VERDE             SAO PAULO    COORD REGIONAL DE SAUDE NORTE   \n",
              "4      R018 CASA VERDE             SAO PAULO    COORD REGIONAL DE SAUDE NORTE   \n",
              "...                ...                   ...                              ...   \n",
              "11673             R001             SAO PAULO      COORD REGIONAL DE SAUDE SUL   \n",
              "11674             R001             SAO PAULO      COORD REGIONAL DE SAUDE SUL   \n",
              "11675             R001             SAO PAULO      COORD REGIONAL DE SAUDE SUL   \n",
              "11676             R001             SAO PAULO      COORD REGIONAL DE SAUDE SUL   \n",
              "11677             R001             SAO PAULO      COORD REGIONAL DE SAUDE SUL   \n",
              "\n",
              "            supervisao_tecnica_acolhimento  \\\n",
              "0      NORTE - STS CASA VERDE/CACHOEIRINHA   \n",
              "1      NORTE - STS CASA VERDE/CACHOEIRINHA   \n",
              "2      NORTE - STS CASA VERDE/CACHOEIRINHA   \n",
              "3      NORTE - STS CASA VERDE/CACHOEIRINHA   \n",
              "4      NORTE - STS CASA VERDE/CACHOEIRINHA   \n",
              "...                                    ...   \n",
              "11673                SUL - STS PARELHEIROS   \n",
              "11674                SUL - STS PARELHEIROS   \n",
              "11675                SUL - STS PARELHEIROS   \n",
              "11676                SUL - STS PARELHEIROS   \n",
              "11677                SUL - STS PARELHEIROS   \n",
              "\n",
              "                   nm_estabelecimento_acolhimento           cd_cns  \\\n",
              "0      AMA/UBS INTEGRADA MASSAGISTA MARIO AMERICO  163729000000000   \n",
              "1      AMA/UBS INTEGRADA MASSAGISTA MARIO AMERICO  203901000000000   \n",
              "2      AMA/UBS INTEGRADA MASSAGISTA MARIO AMERICO  203901000000000   \n",
              "3      AMA/UBS INTEGRADA MASSAGISTA MARIO AMERICO  204285000000000   \n",
              "4      AMA/UBS INTEGRADA MASSAGISTA MARIO AMERICO  204286000000000   \n",
              "...                                           ...              ...   \n",
              "11673                            UBS VILA ROSCHEL  898001000000000   \n",
              "11674                            UBS VILA ROSCHEL  898001000000000   \n",
              "11675                            UBS VILA ROSCHEL  898001000000000   \n",
              "11676                            UBS VILA ROSCHEL  898001000000000   \n",
              "11677                            UBS VILA ROSCHEL  898001000000000   \n",
              "\n",
              "                             nm_pessoa data_atendimento dc_raca data_parto  \\\n",
              "0               MARIA GIRLENE CLEMENTE       2022-06-21   PARDA 2022-05-13   \n",
              "1                  ALINY VELES VICENTE       2023-01-31  BRANCA 2022-12-21   \n",
              "2          ANA PAULA SILVA DE CARVALHO       2022-10-25  BRANCA 2022-10-19   \n",
              "3         JENIFFER DOS SANTOS BELMONTE       2022-02-24  BRANCA 2022-02-11   \n",
              "4            TAYNA MARCELA ROCHA PORTO       2022-09-02   PARDA 2022-07-23   \n",
              "...                                ...              ...     ...        ...   \n",
              "11673  BIANCA SOARES SOUZA DE OLIVEIRA       2022-12-19   PRETA 2022-12-10   \n",
              "11674         CRISTIANE PAULA DA SILVA       2022-08-25   PARDA 2022-08-19   \n",
              "11675             VALDENE CARLA MATEUS       2022-06-24   PARDA 2022-06-09   \n",
              "11676     FRANCIELE RODRIGUES OLIVEIRA       2023-01-31   PARDA 2022-12-04   \n",
              "11677       CARLIENE APARECIDA DE LIMA       2022-02-03   PARDA 2022-01-30   \n",
              "\n",
              "                                nm_estabelecimento_parto dc_tipo_parto  \\\n",
              "0      HOSP MUN CACHOEIRINHA MARIO DE MORAES ALTENFEL...       Vaginal   \n",
              "1                                      HOSP SES MANDAQUI       Cesárea   \n",
              "2                                      HOSP SES MANDAQUI       Cesárea   \n",
              "3                                      HOSP SES MANDAQUI       Vaginal   \n",
              "4                                      HOSP SES MANDAQUI       Vaginal   \n",
              "...                                                  ...           ...   \n",
              "11673  HOSPITAL MUNICIPAL JOSANIAS CASTANHA BRAGA - P...       Cesárea   \n",
              "11674                            HOSP SES MAT INTERLAGOS       Cesárea   \n",
              "11675                            HOSP SES MAT INTERLAGOS       Cesárea   \n",
              "11676  HOSPITAL MUNICIPAL JOSANIAS CASTANHA BRAGA - P...       Cesárea   \n",
              "11677                            HOSP SES MAT INTERLAGOS       Vaginal   \n",
              "\n",
              "       qt_idade_gestacional  vl_peso_bebe  Unnamed: 14  \n",
              "0                      40.0         4.030          NaN  \n",
              "1                      40.0         3.455          NaN  \n",
              "2                      24.0         1.250          NaN  \n",
              "3                      38.0         2.700          NaN  \n",
              "4                      37.0         2.660          NaN  \n",
              "...                     ...           ...          ...  \n",
              "11673                   NaN         3.278          NaN  \n",
              "11674                  35.0         3.662          NaN  \n",
              "11675                  39.0         3.550          NaN  \n",
              "11676                  39.0        32.480          NaN  \n",
              "11677                   NaN         3.600          NaN  \n",
              "\n",
              "[11678 rows x 15 columns]"
            ],
            "text/html": [
              "\n",
              "  <div id=\"df-007140a1-f225-4672-8d7e-e5d2efec7d8c\">\n",
              "    <div class=\"colab-df-container\">\n",
              "      <div>\n",
              "<style scoped>\n",
              "    .dataframe tbody tr th:only-of-type {\n",
              "        vertical-align: middle;\n",
              "    }\n",
              "\n",
              "    .dataframe tbody tr th {\n",
              "        vertical-align: top;\n",
              "    }\n",
              "\n",
              "    .dataframe thead th {\n",
              "        text-align: right;\n",
              "    }\n",
              "</style>\n",
              "<table border=\"1\" class=\"dataframe\">\n",
              "  <thead>\n",
              "    <tr style=\"text-align: right;\">\n",
              "      <th></th>\n",
              "      <th>contrato</th>\n",
              "      <th>municipio_acolhimento</th>\n",
              "      <th>coordenaria_regional_acolhimento</th>\n",
              "      <th>supervisao_tecnica_acolhimento</th>\n",
              "      <th>nm_estabelecimento_acolhimento</th>\n",
              "      <th>cd_cns</th>\n",
              "      <th>nm_pessoa</th>\n",
              "      <th>data_atendimento</th>\n",
              "      <th>dc_raca</th>\n",
              "      <th>data_parto</th>\n",
              "      <th>nm_estabelecimento_parto</th>\n",
              "      <th>dc_tipo_parto</th>\n",
              "      <th>qt_idade_gestacional</th>\n",
              "      <th>vl_peso_bebe</th>\n",
              "      <th>Unnamed: 14</th>\n",
              "    </tr>\n",
              "  </thead>\n",
              "  <tbody>\n",
              "    <tr>\n",
              "      <th>0</th>\n",
              "      <td>R018 CASA VERDE</td>\n",
              "      <td>SAO PAULO</td>\n",
              "      <td>COORD REGIONAL DE SAUDE NORTE</td>\n",
              "      <td>NORTE - STS CASA VERDE/CACHOEIRINHA</td>\n",
              "      <td>AMA/UBS INTEGRADA MASSAGISTA MARIO AMERICO</td>\n",
              "      <td>163729000000000</td>\n",
              "      <td>MARIA GIRLENE CLEMENTE</td>\n",
              "      <td>2022-06-21</td>\n",
              "      <td>PARDA</td>\n",
              "      <td>2022-05-13</td>\n",
              "      <td>HOSP MUN CACHOEIRINHA MARIO DE MORAES ALTENFEL...</td>\n",
              "      <td>Vaginal</td>\n",
              "      <td>40.0</td>\n",
              "      <td>4.030</td>\n",
              "      <td>NaN</td>\n",
              "    </tr>\n",
              "    <tr>\n",
              "      <th>1</th>\n",
              "      <td>R018 CASA VERDE</td>\n",
              "      <td>SAO PAULO</td>\n",
              "      <td>COORD REGIONAL DE SAUDE NORTE</td>\n",
              "      <td>NORTE - STS CASA VERDE/CACHOEIRINHA</td>\n",
              "      <td>AMA/UBS INTEGRADA MASSAGISTA MARIO AMERICO</td>\n",
              "      <td>203901000000000</td>\n",
              "      <td>ALINY VELES VICENTE</td>\n",
              "      <td>2023-01-31</td>\n",
              "      <td>BRANCA</td>\n",
              "      <td>2022-12-21</td>\n",
              "      <td>HOSP SES MANDAQUI</td>\n",
              "      <td>Cesárea</td>\n",
              "      <td>40.0</td>\n",
              "      <td>3.455</td>\n",
              "      <td>NaN</td>\n",
              "    </tr>\n",
              "    <tr>\n",
              "      <th>2</th>\n",
              "      <td>R018 CASA VERDE</td>\n",
              "      <td>SAO PAULO</td>\n",
              "      <td>COORD REGIONAL DE SAUDE NORTE</td>\n",
              "      <td>NORTE - STS CASA VERDE/CACHOEIRINHA</td>\n",
              "      <td>AMA/UBS INTEGRADA MASSAGISTA MARIO AMERICO</td>\n",
              "      <td>203901000000000</td>\n",
              "      <td>ANA PAULA SILVA DE CARVALHO</td>\n",
              "      <td>2022-10-25</td>\n",
              "      <td>BRANCA</td>\n",
              "      <td>2022-10-19</td>\n",
              "      <td>HOSP SES MANDAQUI</td>\n",
              "      <td>Cesárea</td>\n",
              "      <td>24.0</td>\n",
              "      <td>1.250</td>\n",
              "      <td>NaN</td>\n",
              "    </tr>\n",
              "    <tr>\n",
              "      <th>3</th>\n",
              "      <td>R018 CASA VERDE</td>\n",
              "      <td>SAO PAULO</td>\n",
              "      <td>COORD REGIONAL DE SAUDE NORTE</td>\n",
              "      <td>NORTE - STS CASA VERDE/CACHOEIRINHA</td>\n",
              "      <td>AMA/UBS INTEGRADA MASSAGISTA MARIO AMERICO</td>\n",
              "      <td>204285000000000</td>\n",
              "      <td>JENIFFER DOS SANTOS BELMONTE</td>\n",
              "      <td>2022-02-24</td>\n",
              "      <td>BRANCA</td>\n",
              "      <td>2022-02-11</td>\n",
              "      <td>HOSP SES MANDAQUI</td>\n",
              "      <td>Vaginal</td>\n",
              "      <td>38.0</td>\n",
              "      <td>2.700</td>\n",
              "      <td>NaN</td>\n",
              "    </tr>\n",
              "    <tr>\n",
              "      <th>4</th>\n",
              "      <td>R018 CASA VERDE</td>\n",
              "      <td>SAO PAULO</td>\n",
              "      <td>COORD REGIONAL DE SAUDE NORTE</td>\n",
              "      <td>NORTE - STS CASA VERDE/CACHOEIRINHA</td>\n",
              "      <td>AMA/UBS INTEGRADA MASSAGISTA MARIO AMERICO</td>\n",
              "      <td>204286000000000</td>\n",
              "      <td>TAYNA MARCELA ROCHA PORTO</td>\n",
              "      <td>2022-09-02</td>\n",
              "      <td>PARDA</td>\n",
              "      <td>2022-07-23</td>\n",
              "      <td>HOSP SES MANDAQUI</td>\n",
              "      <td>Vaginal</td>\n",
              "      <td>37.0</td>\n",
              "      <td>2.660</td>\n",
              "      <td>NaN</td>\n",
              "    </tr>\n",
              "    <tr>\n",
              "      <th>...</th>\n",
              "      <td>...</td>\n",
              "      <td>...</td>\n",
              "      <td>...</td>\n",
              "      <td>...</td>\n",
              "      <td>...</td>\n",
              "      <td>...</td>\n",
              "      <td>...</td>\n",
              "      <td>...</td>\n",
              "      <td>...</td>\n",
              "      <td>...</td>\n",
              "      <td>...</td>\n",
              "      <td>...</td>\n",
              "      <td>...</td>\n",
              "      <td>...</td>\n",
              "      <td>...</td>\n",
              "    </tr>\n",
              "    <tr>\n",
              "      <th>11673</th>\n",
              "      <td>R001</td>\n",
              "      <td>SAO PAULO</td>\n",
              "      <td>COORD REGIONAL DE SAUDE SUL</td>\n",
              "      <td>SUL - STS PARELHEIROS</td>\n",
              "      <td>UBS VILA ROSCHEL</td>\n",
              "      <td>898001000000000</td>\n",
              "      <td>BIANCA SOARES SOUZA DE OLIVEIRA</td>\n",
              "      <td>2022-12-19</td>\n",
              "      <td>PRETA</td>\n",
              "      <td>2022-12-10</td>\n",
              "      <td>HOSPITAL MUNICIPAL JOSANIAS CASTANHA BRAGA - P...</td>\n",
              "      <td>Cesárea</td>\n",
              "      <td>NaN</td>\n",
              "      <td>3.278</td>\n",
              "      <td>NaN</td>\n",
              "    </tr>\n",
              "    <tr>\n",
              "      <th>11674</th>\n",
              "      <td>R001</td>\n",
              "      <td>SAO PAULO</td>\n",
              "      <td>COORD REGIONAL DE SAUDE SUL</td>\n",
              "      <td>SUL - STS PARELHEIROS</td>\n",
              "      <td>UBS VILA ROSCHEL</td>\n",
              "      <td>898001000000000</td>\n",
              "      <td>CRISTIANE PAULA DA SILVA</td>\n",
              "      <td>2022-08-25</td>\n",
              "      <td>PARDA</td>\n",
              "      <td>2022-08-19</td>\n",
              "      <td>HOSP SES MAT INTERLAGOS</td>\n",
              "      <td>Cesárea</td>\n",
              "      <td>35.0</td>\n",
              "      <td>3.662</td>\n",
              "      <td>NaN</td>\n",
              "    </tr>\n",
              "    <tr>\n",
              "      <th>11675</th>\n",
              "      <td>R001</td>\n",
              "      <td>SAO PAULO</td>\n",
              "      <td>COORD REGIONAL DE SAUDE SUL</td>\n",
              "      <td>SUL - STS PARELHEIROS</td>\n",
              "      <td>UBS VILA ROSCHEL</td>\n",
              "      <td>898001000000000</td>\n",
              "      <td>VALDENE CARLA MATEUS</td>\n",
              "      <td>2022-06-24</td>\n",
              "      <td>PARDA</td>\n",
              "      <td>2022-06-09</td>\n",
              "      <td>HOSP SES MAT INTERLAGOS</td>\n",
              "      <td>Cesárea</td>\n",
              "      <td>39.0</td>\n",
              "      <td>3.550</td>\n",
              "      <td>NaN</td>\n",
              "    </tr>\n",
              "    <tr>\n",
              "      <th>11676</th>\n",
              "      <td>R001</td>\n",
              "      <td>SAO PAULO</td>\n",
              "      <td>COORD REGIONAL DE SAUDE SUL</td>\n",
              "      <td>SUL - STS PARELHEIROS</td>\n",
              "      <td>UBS VILA ROSCHEL</td>\n",
              "      <td>898001000000000</td>\n",
              "      <td>FRANCIELE RODRIGUES OLIVEIRA</td>\n",
              "      <td>2023-01-31</td>\n",
              "      <td>PARDA</td>\n",
              "      <td>2022-12-04</td>\n",
              "      <td>HOSPITAL MUNICIPAL JOSANIAS CASTANHA BRAGA - P...</td>\n",
              "      <td>Cesárea</td>\n",
              "      <td>39.0</td>\n",
              "      <td>32.480</td>\n",
              "      <td>NaN</td>\n",
              "    </tr>\n",
              "    <tr>\n",
              "      <th>11677</th>\n",
              "      <td>R001</td>\n",
              "      <td>SAO PAULO</td>\n",
              "      <td>COORD REGIONAL DE SAUDE SUL</td>\n",
              "      <td>SUL - STS PARELHEIROS</td>\n",
              "      <td>UBS VILA ROSCHEL</td>\n",
              "      <td>898001000000000</td>\n",
              "      <td>CARLIENE APARECIDA DE LIMA</td>\n",
              "      <td>2022-02-03</td>\n",
              "      <td>PARDA</td>\n",
              "      <td>2022-01-30</td>\n",
              "      <td>HOSP SES MAT INTERLAGOS</td>\n",
              "      <td>Vaginal</td>\n",
              "      <td>NaN</td>\n",
              "      <td>3.600</td>\n",
              "      <td>NaN</td>\n",
              "    </tr>\n",
              "  </tbody>\n",
              "</table>\n",
              "<p>11678 rows × 15 columns</p>\n",
              "</div>\n",
              "      <button class=\"colab-df-convert\" onclick=\"convertToInteractive('df-007140a1-f225-4672-8d7e-e5d2efec7d8c')\"\n",
              "              title=\"Convert this dataframe to an interactive table.\"\n",
              "              style=\"display:none;\">\n",
              "        \n",
              "  <svg xmlns=\"http://www.w3.org/2000/svg\" height=\"24px\"viewBox=\"0 0 24 24\"\n",
              "       width=\"24px\">\n",
              "    <path d=\"M0 0h24v24H0V0z\" fill=\"none\"/>\n",
              "    <path d=\"M18.56 5.44l.94 2.06.94-2.06 2.06-.94-2.06-.94-.94-2.06-.94 2.06-2.06.94zm-11 1L8.5 8.5l.94-2.06 2.06-.94-2.06-.94L8.5 2.5l-.94 2.06-2.06.94zm10 10l.94 2.06.94-2.06 2.06-.94-2.06-.94-.94-2.06-.94 2.06-2.06.94z\"/><path d=\"M17.41 7.96l-1.37-1.37c-.4-.4-.92-.59-1.43-.59-.52 0-1.04.2-1.43.59L10.3 9.45l-7.72 7.72c-.78.78-.78 2.05 0 2.83L4 21.41c.39.39.9.59 1.41.59.51 0 1.02-.2 1.41-.59l7.78-7.78 2.81-2.81c.8-.78.8-2.07 0-2.86zM5.41 20L4 18.59l7.72-7.72 1.47 1.35L5.41 20z\"/>\n",
              "  </svg>\n",
              "      </button>\n",
              "      \n",
              "  <style>\n",
              "    .colab-df-container {\n",
              "      display:flex;\n",
              "      flex-wrap:wrap;\n",
              "      gap: 12px;\n",
              "    }\n",
              "\n",
              "    .colab-df-convert {\n",
              "      background-color: #E8F0FE;\n",
              "      border: none;\n",
              "      border-radius: 50%;\n",
              "      cursor: pointer;\n",
              "      display: none;\n",
              "      fill: #1967D2;\n",
              "      height: 32px;\n",
              "      padding: 0 0 0 0;\n",
              "      width: 32px;\n",
              "    }\n",
              "\n",
              "    .colab-df-convert:hover {\n",
              "      background-color: #E2EBFA;\n",
              "      box-shadow: 0px 1px 2px rgba(60, 64, 67, 0.3), 0px 1px 3px 1px rgba(60, 64, 67, 0.15);\n",
              "      fill: #174EA6;\n",
              "    }\n",
              "\n",
              "    [theme=dark] .colab-df-convert {\n",
              "      background-color: #3B4455;\n",
              "      fill: #D2E3FC;\n",
              "    }\n",
              "\n",
              "    [theme=dark] .colab-df-convert:hover {\n",
              "      background-color: #434B5C;\n",
              "      box-shadow: 0px 1px 3px 1px rgba(0, 0, 0, 0.15);\n",
              "      filter: drop-shadow(0px 1px 2px rgba(0, 0, 0, 0.3));\n",
              "      fill: #FFFFFF;\n",
              "    }\n",
              "  </style>\n",
              "\n",
              "      <script>\n",
              "        const buttonEl =\n",
              "          document.querySelector('#df-007140a1-f225-4672-8d7e-e5d2efec7d8c button.colab-df-convert');\n",
              "        buttonEl.style.display =\n",
              "          google.colab.kernel.accessAllowed ? 'block' : 'none';\n",
              "\n",
              "        async function convertToInteractive(key) {\n",
              "          const element = document.querySelector('#df-007140a1-f225-4672-8d7e-e5d2efec7d8c');\n",
              "          const dataTable =\n",
              "            await google.colab.kernel.invokeFunction('convertToInteractive',\n",
              "                                                     [key], {});\n",
              "          if (!dataTable) return;\n",
              "\n",
              "          const docLinkHtml = 'Like what you see? Visit the ' +\n",
              "            '<a target=\"_blank\" href=https://colab.research.google.com/notebooks/data_table.ipynb>data table notebook</a>'\n",
              "            + ' to learn more about interactive tables.';\n",
              "          element.innerHTML = '';\n",
              "          dataTable['output_type'] = 'display_data';\n",
              "          await google.colab.output.renderOutput(dataTable, element);\n",
              "          const docLink = document.createElement('div');\n",
              "          docLink.innerHTML = docLinkHtml;\n",
              "          element.appendChild(docLink);\n",
              "        }\n",
              "      </script>\n",
              "    </div>\n",
              "  </div>\n",
              "  "
            ]
          },
          "metadata": {},
          "execution_count": 22
        }
      ]
    },
    {
      "cell_type": "code",
      "source": [
        "# Filtrar os dados para o contrato desejado\n",
        "contrato_desejado = 'R002'\n",
        "df_contrato = PU04[PU04['contrato'] == contrato_desejado]\n",
        "\n",
        "# Contar a frequência da palavra 'Vaginal' na coluna 'dc_tipo_parto'\n",
        "contagem_vaginal = df_contrato['dc_tipo_parto'].str.count('Cesárea').sum()\n",
        "\n",
        "# Exibir a contagem\n",
        "print(contagem_vaginal)"
      ],
      "metadata": {
        "colab": {
          "base_uri": "https://localhost:8080/"
        },
        "id": "-k6gQcN8JZJE",
        "outputId": "51818ede-a45d-4782-d56e-83da3094bf1d"
      },
      "execution_count": null,
      "outputs": [
        {
          "output_type": "stream",
          "name": "stdout",
          "text": [
            "1\n"
          ]
        }
      ]
    }
  ]
}